{
 "cells": [
  {
   "cell_type": "code",
   "execution_count": 1,
   "id": "424f9e36",
   "metadata": {},
   "outputs": [],
   "source": [
    "import pandas as pd\n",
    "import matplotlib.pyplot as plt"
   ]
  },
  {
   "cell_type": "code",
   "execution_count": 2,
   "id": "678f2387",
   "metadata": {},
   "outputs": [
    {
     "data": {
      "text/html": [
       "<div>\n",
       "<style scoped>\n",
       "    .dataframe tbody tr th:only-of-type {\n",
       "        vertical-align: middle;\n",
       "    }\n",
       "\n",
       "    .dataframe tbody tr th {\n",
       "        vertical-align: top;\n",
       "    }\n",
       "\n",
       "    .dataframe thead th {\n",
       "        text-align: right;\n",
       "    }\n",
       "</style>\n",
       "<table border=\"1\" class=\"dataframe\">\n",
       "  <thead>\n",
       "    <tr style=\"text-align: right;\">\n",
       "      <th></th>\n",
       "      <th>Area</th>\n",
       "      <th>Perimeter</th>\n",
       "      <th>Major_Axis_Length</th>\n",
       "      <th>Minor_Axis_Length</th>\n",
       "      <th>Convex_Area</th>\n",
       "      <th>Equiv_Diameter</th>\n",
       "      <th>Eccentricity</th>\n",
       "      <th>Solidity</th>\n",
       "      <th>Extent</th>\n",
       "      <th>Roundness</th>\n",
       "      <th>Aspect_Ration</th>\n",
       "      <th>Compactness</th>\n",
       "      <th>Class</th>\n",
       "    </tr>\n",
       "  </thead>\n",
       "  <tbody>\n",
       "    <tr>\n",
       "      <th>0</th>\n",
       "      <td>56276</td>\n",
       "      <td>888.242</td>\n",
       "      <td>326.1485</td>\n",
       "      <td>220.2388</td>\n",
       "      <td>56831</td>\n",
       "      <td>267.6805</td>\n",
       "      <td>0.7376</td>\n",
       "      <td>0.9902</td>\n",
       "      <td>0.7453</td>\n",
       "      <td>0.8963</td>\n",
       "      <td>1.4809</td>\n",
       "      <td>0.8207</td>\n",
       "      <td>Çerçevelik</td>\n",
       "    </tr>\n",
       "    <tr>\n",
       "      <th>1</th>\n",
       "      <td>76631</td>\n",
       "      <td>1068.146</td>\n",
       "      <td>417.1932</td>\n",
       "      <td>234.2289</td>\n",
       "      <td>77280</td>\n",
       "      <td>312.3614</td>\n",
       "      <td>0.8275</td>\n",
       "      <td>0.9916</td>\n",
       "      <td>0.7151</td>\n",
       "      <td>0.8440</td>\n",
       "      <td>1.7811</td>\n",
       "      <td>0.7487</td>\n",
       "      <td>Çerçevelik</td>\n",
       "    </tr>\n",
       "    <tr>\n",
       "      <th>2</th>\n",
       "      <td>71623</td>\n",
       "      <td>1082.987</td>\n",
       "      <td>435.8328</td>\n",
       "      <td>211.0457</td>\n",
       "      <td>72663</td>\n",
       "      <td>301.9822</td>\n",
       "      <td>0.8749</td>\n",
       "      <td>0.9857</td>\n",
       "      <td>0.7400</td>\n",
       "      <td>0.7674</td>\n",
       "      <td>2.0651</td>\n",
       "      <td>0.6929</td>\n",
       "      <td>Çerçevelik</td>\n",
       "    </tr>\n",
       "    <tr>\n",
       "      <th>3</th>\n",
       "      <td>66458</td>\n",
       "      <td>992.051</td>\n",
       "      <td>381.5638</td>\n",
       "      <td>222.5322</td>\n",
       "      <td>67118</td>\n",
       "      <td>290.8899</td>\n",
       "      <td>0.8123</td>\n",
       "      <td>0.9902</td>\n",
       "      <td>0.7396</td>\n",
       "      <td>0.8486</td>\n",
       "      <td>1.7146</td>\n",
       "      <td>0.7624</td>\n",
       "      <td>Çerçevelik</td>\n",
       "    </tr>\n",
       "    <tr>\n",
       "      <th>4</th>\n",
       "      <td>66107</td>\n",
       "      <td>998.146</td>\n",
       "      <td>383.8883</td>\n",
       "      <td>220.4545</td>\n",
       "      <td>67117</td>\n",
       "      <td>290.1207</td>\n",
       "      <td>0.8187</td>\n",
       "      <td>0.9850</td>\n",
       "      <td>0.6752</td>\n",
       "      <td>0.8338</td>\n",
       "      <td>1.7413</td>\n",
       "      <td>0.7557</td>\n",
       "      <td>Çerçevelik</td>\n",
       "    </tr>\n",
       "    <tr>\n",
       "      <th>...</th>\n",
       "      <td>...</td>\n",
       "      <td>...</td>\n",
       "      <td>...</td>\n",
       "      <td>...</td>\n",
       "      <td>...</td>\n",
       "      <td>...</td>\n",
       "      <td>...</td>\n",
       "      <td>...</td>\n",
       "      <td>...</td>\n",
       "      <td>...</td>\n",
       "      <td>...</td>\n",
       "      <td>...</td>\n",
       "      <td>...</td>\n",
       "    </tr>\n",
       "    <tr>\n",
       "      <th>2495</th>\n",
       "      <td>79637</td>\n",
       "      <td>1224.710</td>\n",
       "      <td>533.1513</td>\n",
       "      <td>190.4367</td>\n",
       "      <td>80381</td>\n",
       "      <td>318.4289</td>\n",
       "      <td>0.9340</td>\n",
       "      <td>0.9907</td>\n",
       "      <td>0.4888</td>\n",
       "      <td>0.6672</td>\n",
       "      <td>2.7996</td>\n",
       "      <td>0.5973</td>\n",
       "      <td>Ürgüp Sivrisi</td>\n",
       "    </tr>\n",
       "    <tr>\n",
       "      <th>2496</th>\n",
       "      <td>69647</td>\n",
       "      <td>1084.318</td>\n",
       "      <td>462.9416</td>\n",
       "      <td>191.8210</td>\n",
       "      <td>70216</td>\n",
       "      <td>297.7874</td>\n",
       "      <td>0.9101</td>\n",
       "      <td>0.9919</td>\n",
       "      <td>0.6002</td>\n",
       "      <td>0.7444</td>\n",
       "      <td>2.4134</td>\n",
       "      <td>0.6433</td>\n",
       "      <td>Ürgüp Sivrisi</td>\n",
       "    </tr>\n",
       "    <tr>\n",
       "      <th>2497</th>\n",
       "      <td>87994</td>\n",
       "      <td>1210.314</td>\n",
       "      <td>507.2200</td>\n",
       "      <td>222.1872</td>\n",
       "      <td>88702</td>\n",
       "      <td>334.7199</td>\n",
       "      <td>0.8990</td>\n",
       "      <td>0.9920</td>\n",
       "      <td>0.7643</td>\n",
       "      <td>0.7549</td>\n",
       "      <td>2.2828</td>\n",
       "      <td>0.6599</td>\n",
       "      <td>Ürgüp Sivrisi</td>\n",
       "    </tr>\n",
       "    <tr>\n",
       "      <th>2498</th>\n",
       "      <td>80011</td>\n",
       "      <td>1182.947</td>\n",
       "      <td>501.9065</td>\n",
       "      <td>204.7531</td>\n",
       "      <td>80902</td>\n",
       "      <td>319.1758</td>\n",
       "      <td>0.9130</td>\n",
       "      <td>0.9890</td>\n",
       "      <td>0.7374</td>\n",
       "      <td>0.7185</td>\n",
       "      <td>2.4513</td>\n",
       "      <td>0.6359</td>\n",
       "      <td>Ürgüp Sivrisi</td>\n",
       "    </tr>\n",
       "    <tr>\n",
       "      <th>2499</th>\n",
       "      <td>84934</td>\n",
       "      <td>1159.933</td>\n",
       "      <td>462.8951</td>\n",
       "      <td>234.5597</td>\n",
       "      <td>85781</td>\n",
       "      <td>328.8485</td>\n",
       "      <td>0.8621</td>\n",
       "      <td>0.9901</td>\n",
       "      <td>0.7360</td>\n",
       "      <td>0.7933</td>\n",
       "      <td>1.9735</td>\n",
       "      <td>0.7104</td>\n",
       "      <td>Ürgüp Sivrisi</td>\n",
       "    </tr>\n",
       "  </tbody>\n",
       "</table>\n",
       "<p>2500 rows × 13 columns</p>\n",
       "</div>"
      ],
      "text/plain": [
       "       Area  Perimeter  Major_Axis_Length  Minor_Axis_Length  Convex_Area  \\\n",
       "0     56276    888.242           326.1485           220.2388        56831   \n",
       "1     76631   1068.146           417.1932           234.2289        77280   \n",
       "2     71623   1082.987           435.8328           211.0457        72663   \n",
       "3     66458    992.051           381.5638           222.5322        67118   \n",
       "4     66107    998.146           383.8883           220.4545        67117   \n",
       "...     ...        ...                ...                ...          ...   \n",
       "2495  79637   1224.710           533.1513           190.4367        80381   \n",
       "2496  69647   1084.318           462.9416           191.8210        70216   \n",
       "2497  87994   1210.314           507.2200           222.1872        88702   \n",
       "2498  80011   1182.947           501.9065           204.7531        80902   \n",
       "2499  84934   1159.933           462.8951           234.5597        85781   \n",
       "\n",
       "      Equiv_Diameter  Eccentricity  Solidity  Extent  Roundness  \\\n",
       "0           267.6805        0.7376    0.9902  0.7453     0.8963   \n",
       "1           312.3614        0.8275    0.9916  0.7151     0.8440   \n",
       "2           301.9822        0.8749    0.9857  0.7400     0.7674   \n",
       "3           290.8899        0.8123    0.9902  0.7396     0.8486   \n",
       "4           290.1207        0.8187    0.9850  0.6752     0.8338   \n",
       "...              ...           ...       ...     ...        ...   \n",
       "2495        318.4289        0.9340    0.9907  0.4888     0.6672   \n",
       "2496        297.7874        0.9101    0.9919  0.6002     0.7444   \n",
       "2497        334.7199        0.8990    0.9920  0.7643     0.7549   \n",
       "2498        319.1758        0.9130    0.9890  0.7374     0.7185   \n",
       "2499        328.8485        0.8621    0.9901  0.7360     0.7933   \n",
       "\n",
       "      Aspect_Ration  Compactness          Class  \n",
       "0            1.4809       0.8207     Çerçevelik  \n",
       "1            1.7811       0.7487     Çerçevelik  \n",
       "2            2.0651       0.6929     Çerçevelik  \n",
       "3            1.7146       0.7624     Çerçevelik  \n",
       "4            1.7413       0.7557     Çerçevelik  \n",
       "...             ...          ...            ...  \n",
       "2495         2.7996       0.5973  Ürgüp Sivrisi  \n",
       "2496         2.4134       0.6433  Ürgüp Sivrisi  \n",
       "2497         2.2828       0.6599  Ürgüp Sivrisi  \n",
       "2498         2.4513       0.6359  Ürgüp Sivrisi  \n",
       "2499         1.9735       0.7104  Ürgüp Sivrisi  \n",
       "\n",
       "[2500 rows x 13 columns]"
      ]
     },
     "execution_count": 2,
     "metadata": {},
     "output_type": "execute_result"
    }
   ],
   "source": [
    "df = pd.read_excel(\"Pumpkin_Seeds_Dataset.xlsx\")\n",
    "df"
   ]
  },
  {
   "cell_type": "code",
   "execution_count": 3,
   "id": "3b12898f",
   "metadata": {},
   "outputs": [
    {
     "data": {
      "text/plain": [
       "Area                 0\n",
       "Perimeter            0\n",
       "Major_Axis_Length    0\n",
       "Minor_Axis_Length    0\n",
       "Convex_Area          0\n",
       "Equiv_Diameter       0\n",
       "Eccentricity         0\n",
       "Solidity             0\n",
       "Extent               0\n",
       "Roundness            0\n",
       "Aspect_Ration        0\n",
       "Compactness          0\n",
       "Class                0\n",
       "dtype: int64"
      ]
     },
     "execution_count": 3,
     "metadata": {},
     "output_type": "execute_result"
    }
   ],
   "source": [
    "df.isnull().sum()"
   ]
  },
  {
   "cell_type": "code",
   "execution_count": 4,
   "id": "fecc0b6c",
   "metadata": {},
   "outputs": [
    {
     "data": {
      "text/html": [
       "<div>\n",
       "<style scoped>\n",
       "    .dataframe tbody tr th:only-of-type {\n",
       "        vertical-align: middle;\n",
       "    }\n",
       "\n",
       "    .dataframe tbody tr th {\n",
       "        vertical-align: top;\n",
       "    }\n",
       "\n",
       "    .dataframe thead th {\n",
       "        text-align: right;\n",
       "    }\n",
       "</style>\n",
       "<table border=\"1\" class=\"dataframe\">\n",
       "  <thead>\n",
       "    <tr style=\"text-align: right;\">\n",
       "      <th></th>\n",
       "      <th>Area</th>\n",
       "      <th>Perimeter</th>\n",
       "      <th>Major_Axis_Length</th>\n",
       "      <th>Minor_Axis_Length</th>\n",
       "      <th>Convex_Area</th>\n",
       "      <th>Equiv_Diameter</th>\n",
       "      <th>Eccentricity</th>\n",
       "      <th>Solidity</th>\n",
       "      <th>Extent</th>\n",
       "      <th>Roundness</th>\n",
       "      <th>Aspect_Ration</th>\n",
       "      <th>Compactness</th>\n",
       "    </tr>\n",
       "  </thead>\n",
       "  <tbody>\n",
       "    <tr>\n",
       "      <th>count</th>\n",
       "      <td>2500.000000</td>\n",
       "      <td>2500.000000</td>\n",
       "      <td>2500.000000</td>\n",
       "      <td>2500.000000</td>\n",
       "      <td>2500.000000</td>\n",
       "      <td>2500.000000</td>\n",
       "      <td>2500.000000</td>\n",
       "      <td>2500.000000</td>\n",
       "      <td>2500.000000</td>\n",
       "      <td>2500.000000</td>\n",
       "      <td>2500.000000</td>\n",
       "      <td>2500.000000</td>\n",
       "    </tr>\n",
       "    <tr>\n",
       "      <th>mean</th>\n",
       "      <td>80658.220800</td>\n",
       "      <td>1130.279015</td>\n",
       "      <td>456.601840</td>\n",
       "      <td>225.794921</td>\n",
       "      <td>81508.084400</td>\n",
       "      <td>319.334230</td>\n",
       "      <td>0.860879</td>\n",
       "      <td>0.989492</td>\n",
       "      <td>0.693205</td>\n",
       "      <td>0.791533</td>\n",
       "      <td>2.041702</td>\n",
       "      <td>0.704121</td>\n",
       "    </tr>\n",
       "    <tr>\n",
       "      <th>std</th>\n",
       "      <td>13664.510228</td>\n",
       "      <td>109.256418</td>\n",
       "      <td>56.235704</td>\n",
       "      <td>23.297245</td>\n",
       "      <td>13764.092788</td>\n",
       "      <td>26.891920</td>\n",
       "      <td>0.045167</td>\n",
       "      <td>0.003494</td>\n",
       "      <td>0.060914</td>\n",
       "      <td>0.055924</td>\n",
       "      <td>0.315997</td>\n",
       "      <td>0.053067</td>\n",
       "    </tr>\n",
       "    <tr>\n",
       "      <th>min</th>\n",
       "      <td>47939.000000</td>\n",
       "      <td>868.485000</td>\n",
       "      <td>320.844600</td>\n",
       "      <td>152.171800</td>\n",
       "      <td>48366.000000</td>\n",
       "      <td>247.058400</td>\n",
       "      <td>0.492100</td>\n",
       "      <td>0.918600</td>\n",
       "      <td>0.468000</td>\n",
       "      <td>0.554600</td>\n",
       "      <td>1.148700</td>\n",
       "      <td>0.560800</td>\n",
       "    </tr>\n",
       "    <tr>\n",
       "      <th>25%</th>\n",
       "      <td>70765.000000</td>\n",
       "      <td>1048.829750</td>\n",
       "      <td>414.957850</td>\n",
       "      <td>211.245925</td>\n",
       "      <td>71512.000000</td>\n",
       "      <td>300.167975</td>\n",
       "      <td>0.831700</td>\n",
       "      <td>0.988300</td>\n",
       "      <td>0.658900</td>\n",
       "      <td>0.751900</td>\n",
       "      <td>1.801050</td>\n",
       "      <td>0.663475</td>\n",
       "    </tr>\n",
       "    <tr>\n",
       "      <th>50%</th>\n",
       "      <td>79076.000000</td>\n",
       "      <td>1123.672000</td>\n",
       "      <td>449.496600</td>\n",
       "      <td>224.703100</td>\n",
       "      <td>79872.000000</td>\n",
       "      <td>317.305350</td>\n",
       "      <td>0.863700</td>\n",
       "      <td>0.990300</td>\n",
       "      <td>0.713050</td>\n",
       "      <td>0.797750</td>\n",
       "      <td>1.984200</td>\n",
       "      <td>0.707700</td>\n",
       "    </tr>\n",
       "    <tr>\n",
       "      <th>75%</th>\n",
       "      <td>89757.500000</td>\n",
       "      <td>1203.340500</td>\n",
       "      <td>492.737650</td>\n",
       "      <td>240.672875</td>\n",
       "      <td>90797.750000</td>\n",
       "      <td>338.057375</td>\n",
       "      <td>0.897025</td>\n",
       "      <td>0.991500</td>\n",
       "      <td>0.740225</td>\n",
       "      <td>0.834325</td>\n",
       "      <td>2.262075</td>\n",
       "      <td>0.743500</td>\n",
       "    </tr>\n",
       "    <tr>\n",
       "      <th>max</th>\n",
       "      <td>136574.000000</td>\n",
       "      <td>1559.450000</td>\n",
       "      <td>661.911300</td>\n",
       "      <td>305.818000</td>\n",
       "      <td>138384.000000</td>\n",
       "      <td>417.002900</td>\n",
       "      <td>0.948100</td>\n",
       "      <td>0.994400</td>\n",
       "      <td>0.829600</td>\n",
       "      <td>0.939600</td>\n",
       "      <td>3.144400</td>\n",
       "      <td>0.904900</td>\n",
       "    </tr>\n",
       "  </tbody>\n",
       "</table>\n",
       "</div>"
      ],
      "text/plain": [
       "                Area    Perimeter  Major_Axis_Length  Minor_Axis_Length  \\\n",
       "count    2500.000000  2500.000000        2500.000000        2500.000000   \n",
       "mean    80658.220800  1130.279015         456.601840         225.794921   \n",
       "std     13664.510228   109.256418          56.235704          23.297245   \n",
       "min     47939.000000   868.485000         320.844600         152.171800   \n",
       "25%     70765.000000  1048.829750         414.957850         211.245925   \n",
       "50%     79076.000000  1123.672000         449.496600         224.703100   \n",
       "75%     89757.500000  1203.340500         492.737650         240.672875   \n",
       "max    136574.000000  1559.450000         661.911300         305.818000   \n",
       "\n",
       "         Convex_Area  Equiv_Diameter  Eccentricity     Solidity       Extent  \\\n",
       "count    2500.000000     2500.000000   2500.000000  2500.000000  2500.000000   \n",
       "mean    81508.084400      319.334230      0.860879     0.989492     0.693205   \n",
       "std     13764.092788       26.891920      0.045167     0.003494     0.060914   \n",
       "min     48366.000000      247.058400      0.492100     0.918600     0.468000   \n",
       "25%     71512.000000      300.167975      0.831700     0.988300     0.658900   \n",
       "50%     79872.000000      317.305350      0.863700     0.990300     0.713050   \n",
       "75%     90797.750000      338.057375      0.897025     0.991500     0.740225   \n",
       "max    138384.000000      417.002900      0.948100     0.994400     0.829600   \n",
       "\n",
       "         Roundness  Aspect_Ration  Compactness  \n",
       "count  2500.000000    2500.000000  2500.000000  \n",
       "mean      0.791533       2.041702     0.704121  \n",
       "std       0.055924       0.315997     0.053067  \n",
       "min       0.554600       1.148700     0.560800  \n",
       "25%       0.751900       1.801050     0.663475  \n",
       "50%       0.797750       1.984200     0.707700  \n",
       "75%       0.834325       2.262075     0.743500  \n",
       "max       0.939600       3.144400     0.904900  "
      ]
     },
     "execution_count": 4,
     "metadata": {},
     "output_type": "execute_result"
    }
   ],
   "source": [
    "df.describe()"
   ]
  },
  {
   "cell_type": "code",
   "execution_count": 5,
   "id": "6b1c2bc9",
   "metadata": {},
   "outputs": [
    {
     "data": {
      "text/plain": [
       "Index(['Area', 'Perimeter', 'Major_Axis_Length', 'Minor_Axis_Length',\n",
       "       'Convex_Area', 'Equiv_Diameter', 'Eccentricity', 'Solidity', 'Extent',\n",
       "       'Roundness', 'Aspect_Ration', 'Compactness', 'Class'],\n",
       "      dtype='object')"
      ]
     },
     "execution_count": 5,
     "metadata": {},
     "output_type": "execute_result"
    }
   ],
   "source": [
    "df.columns"
   ]
  },
  {
   "cell_type": "code",
   "execution_count": 6,
   "id": "d11e71d6",
   "metadata": {},
   "outputs": [
    {
     "data": {
      "text/plain": [
       "Area                 2424\n",
       "Perimeter            2490\n",
       "Major_Axis_Length    2499\n",
       "Minor_Axis_Length    2497\n",
       "Convex_Area          2445\n",
       "Equiv_Diameter       2424\n",
       "Eccentricity         1295\n",
       "Solidity              166\n",
       "Extent               1392\n",
       "Roundness            1480\n",
       "Aspect_Ration        2237\n",
       "Compactness          1405\n",
       "Class                   2\n",
       "dtype: int64"
      ]
     },
     "execution_count": 6,
     "metadata": {},
     "output_type": "execute_result"
    }
   ],
   "source": [
    "df[['Area', 'Perimeter', 'Major_Axis_Length', 'Minor_Axis_Length',\n",
    "       'Convex_Area', 'Equiv_Diameter', 'Eccentricity', 'Solidity', 'Extent',\n",
    "       'Roundness', 'Aspect_Ration', 'Compactness', 'Class']].nunique()"
   ]
  },
  {
   "cell_type": "code",
   "execution_count": 7,
   "id": "494ee42f",
   "metadata": {},
   "outputs": [
    {
     "data": {
      "text/plain": [
       "Area                   int64\n",
       "Perimeter            float64\n",
       "Major_Axis_Length    float64\n",
       "Minor_Axis_Length    float64\n",
       "Convex_Area            int64\n",
       "Equiv_Diameter       float64\n",
       "Eccentricity         float64\n",
       "Solidity             float64\n",
       "Extent               float64\n",
       "Roundness            float64\n",
       "Aspect_Ration        float64\n",
       "Compactness          float64\n",
       "Class                 object\n",
       "dtype: object"
      ]
     },
     "execution_count": 7,
     "metadata": {},
     "output_type": "execute_result"
    }
   ],
   "source": [
    "df.dtypes"
   ]
  },
  {
   "cell_type": "code",
   "execution_count": 8,
   "id": "2ae95d6b",
   "metadata": {},
   "outputs": [
    {
     "data": {
      "text/plain": [
       "(2500, 13)"
      ]
     },
     "execution_count": 8,
     "metadata": {},
     "output_type": "execute_result"
    }
   ],
   "source": [
    "df.shape"
   ]
  },
  {
   "cell_type": "code",
   "execution_count": 9,
   "id": "ae86e635",
   "metadata": {},
   "outputs": [],
   "source": [
    "from sklearn.preprocessing import OneHotEncoder"
   ]
  },
  {
   "cell_type": "code",
   "execution_count": 10,
   "id": "bb629499",
   "metadata": {},
   "outputs": [
    {
     "data": {
      "text/plain": [
       "<AxesSubplot:>"
      ]
     },
     "execution_count": 10,
     "metadata": {},
     "output_type": "execute_result"
    },
    {
     "data": {
      "image/png": "[encoded data removed]",
      "text/plain": [
       "<Figure size 1080x1080 with 2 Axes>"
      ]
     },
     "metadata": {
      "needs_background": "light"
     },
     "output_type": "display_data"
    }
   ],
   "source": [
    "import seaborn as sns\n",
    "plt.figure(figsize=(15, 15))\n",
    "sns.heatmap(df.corr(), annot=True)"
   ]
  },
  {
   "cell_type": "code",
   "execution_count": 11,
   "id": "b5414c69",
   "metadata": {},
   "outputs": [],
   "source": [
    "from sklearn.preprocessing import StandardScaler\n",
    "\n",
    "X = df.drop(['Class'], axis=1)\n",
    "y = df['Class']\n",
    "\n",
    "X_stand = StandardScaler().fit_transform(X)"
   ]
  },
  {
   "cell_type": "code",
   "execution_count": 12,
   "id": "0f3cd914",
   "metadata": {},
   "outputs": [],
   "source": [
    "from sklearn.svm import SVC"
   ]
  },
  {
   "cell_type": "code",
   "execution_count": 13,
   "id": "e60a929c",
   "metadata": {},
   "outputs": [],
   "source": [
    "from sklearn.metrics import classification_report\n",
    "from sklearn.metrics import confusion_matrix\n",
    "\n",
    "def print_accuracy(model):\n",
    "    y_pred = model.predict(X_test)\n",
    "    class_rep = classification_report(y_test, y_pred)\n",
    "    conf_mat = confusion_matrix(y_test, y_pred)\n",
    "    print(f'Model \\n{model}\\n'\n",
    "         f'Classification report \\n{class_rep}\\n'\n",
    "         f'Confusion matrix \\n{conf_mat}\\n')"
   ]
  },
  {
   "cell_type": "code",
   "execution_count": 14,
   "id": "829b84b9",
   "metadata": {},
   "outputs": [],
   "source": [
    "from sklearn.neighbors import KNeighborsClassifier\n",
    "from sklearn.linear_model import LogisticRegression\n",
    "from sklearn.cluster import KMeans\n",
    "\n",
    "models = [SVC(kernel='rbf')]"
   ]
  },
  {
   "cell_type": "code",
   "execution_count": 15,
   "id": "d5f8f84f",
   "metadata": {},
   "outputs": [
    {
     "name": "stdout",
     "output_type": "stream",
     "text": [
      "Model \n",
      "SVC()\n",
      "Classification report \n",
      "               precision    recall  f1-score   support\n",
      "\n",
      "   Çerçevelik       0.85      0.90      0.87       251\n",
      "Ürgüp Sivrisi       0.89      0.84      0.86       249\n",
      "\n",
      "     accuracy                           0.87       500\n",
      "    macro avg       0.87      0.87      0.87       500\n",
      " weighted avg       0.87      0.87      0.87       500\n",
      "\n",
      "Confusion matrix \n",
      "[[226  25]\n",
      " [ 41 208]]\n",
      "\n"
     ]
    }
   ],
   "source": [
    "from sklearn.model_selection import train_test_split\n",
    "\n",
    "X_train, X_test, y_train, y_test = train_test_split(X_stand, y, test_size=0.2, random_state=42)\n",
    "\n",
    "for mod in models:\n",
    "    model = mod.fit(X_train, y_train)\n",
    "    print_accuracy(model)"
   ]
  },
  {
   "cell_type": "code",
   "execution_count": 18,
   "id": "3b3067a5",
   "metadata": {},
   "outputs": [
    {
     "data": {
      "text/plain": [
       "1750"
      ]
     },
     "execution_count": 18,
     "metadata": {},
     "output_type": "execute_result"
    }
   ],
   "source": [
    "x_train,x_test,y_train,y_test = train_test_split(X,y,test_size=0.3)\n",
    "len(y_train)"
   ]
  },
  {
   "cell_type": "code",
   "execution_count": 19,
   "id": "c94a26b9",
   "metadata": {},
   "outputs": [
    {
     "data": {
      "text/plain": [
       "750"
      ]
     },
     "execution_count": 19,
     "metadata": {},
     "output_type": "execute_result"
    }
   ],
   "source": [
    "len(y_test)"
   ]
  },
  {
   "cell_type": "code",
   "execution_count": 21,
   "id": "b1f8da00",
   "metadata": {},
   "outputs": [
    {
     "data": {
      "text/html": [
       "<style>#sk-container-id-1 {color: black;background-color: white;}#sk-container-id-1 pre{padding: 0;}#sk-container-id-1 div.sk-toggleable {background-color: white;}#sk-container-id-1 label.sk-toggleable__label {cursor: pointer;display: block;width: 100%;margin-bottom: 0;padding: 0.3em;box-sizing: border-box;text-align: center;}#sk-container-id-1 label.sk-toggleable__label-arrow:before {content: \"▸\";float: left;margin-right: 0.25em;color: #696969;}#sk-container-id-1 label.sk-toggleable__label-arrow:hover:before {color: black;}#sk-container-id-1 div.sk-estimator:hover label.sk-toggleable__label-arrow:before {color: black;}#sk-container-id-1 div.sk-toggleable__content {max-height: 0;max-width: 0;overflow: hidden;text-align: left;background-color: #f0f8ff;}#sk-container-id-1 div.sk-toggleable__content pre {margin: 0.2em;color: black;border-radius: 0.25em;background-color: #f0f8ff;}#sk-container-id-1 input.sk-toggleable__control:checked~div.sk-toggleable__content {max-height: 200px;max-width: 100%;overflow: auto;}#sk-container-id-1 input.sk-toggleable__control:checked~label.sk-toggleable__label-arrow:before {content: \"▾\";}#sk-container-id-1 div.sk-estimator input.sk-toggleable__control:checked~label.sk-toggleable__label {background-color: #d4ebff;}#sk-container-id-1 div.sk-label input.sk-toggleable__control:checked~label.sk-toggleable__label {background-color: #d4ebff;}#sk-container-id-1 input.sk-hidden--visually {border: 0;clip: rect(1px 1px 1px 1px);clip: rect(1px, 1px, 1px, 1px);height: 1px;margin: -1px;overflow: hidden;padding: 0;position: absolute;width: 1px;}#sk-container-id-1 div.sk-estimator {font-family: monospace;background-color: #f0f8ff;border: 1px dotted black;border-radius: 0.25em;box-sizing: border-box;margin-bottom: 0.5em;}#sk-container-id-1 div.sk-estimator:hover {background-color: #d4ebff;}#sk-container-id-1 div.sk-parallel-item::after {content: \"\";width: 100%;border-bottom: 1px solid gray;flex-grow: 1;}#sk-container-id-1 div.sk-label:hover label.sk-toggleable__label {background-color: #d4ebff;}#sk-container-id-1 div.sk-serial::before {content: \"\";position: absolute;border-left: 1px solid gray;box-sizing: border-box;top: 0;bottom: 0;left: 50%;z-index: 0;}#sk-container-id-1 div.sk-serial {display: flex;flex-direction: column;align-items: center;background-color: white;padding-right: 0.2em;padding-left: 0.2em;position: relative;}#sk-container-id-1 div.sk-item {position: relative;z-index: 1;}#sk-container-id-1 div.sk-parallel {display: flex;align-items: stretch;justify-content: center;background-color: white;position: relative;}#sk-container-id-1 div.sk-item::before, #sk-container-id-1 div.sk-parallel-item::before {content: \"\";position: absolute;border-left: 1px solid gray;box-sizing: border-box;top: 0;bottom: 0;left: 50%;z-index: -1;}#sk-container-id-1 div.sk-parallel-item {display: flex;flex-direction: column;z-index: 1;position: relative;background-color: white;}#sk-container-id-1 div.sk-parallel-item:first-child::after {align-self: flex-end;width: 50%;}#sk-container-id-1 div.sk-parallel-item:last-child::after {align-self: flex-start;width: 50%;}#sk-container-id-1 div.sk-parallel-item:only-child::after {width: 0;}#sk-container-id-1 div.sk-dashed-wrapped {border: 1px dashed gray;margin: 0 0.4em 0.5em 0.4em;box-sizing: border-box;padding-bottom: 0.4em;background-color: white;}#sk-container-id-1 div.sk-label label {font-family: monospace;font-weight: bold;display: inline-block;line-height: 1.2em;}#sk-container-id-1 div.sk-label-container {text-align: center;}#sk-container-id-1 div.sk-container {/* jupyter's `normalize.less` sets `[hidden] { display: none; }` but bootstrap.min.css set `[hidden] { display: none !important; }` so we also need the `!important` here to be able to override the default hidden behavior on the sphinx rendered scikit-learn.org. See: https://github.com/scikit-learn/scikit-learn/issues/21755 */display: inline-block !important;position: relative;}#sk-container-id-1 div.sk-text-repr-fallback {display: none;}</style><div id=\"sk-container-id-1\" class=\"sk-top-container\"><div class=\"sk-text-repr-fallback\"><pre>SVC()</pre><b>In a Jupyter environment, please rerun this cell to show the HTML representation or trust the notebook. <br />On GitHub, the HTML representation is unable to render, please try loading this page with nbviewer.org.</b></div><div class=\"sk-container\" hidden><div class=\"sk-item\"><div class=\"sk-estimator sk-toggleable\"><input class=\"sk-toggleable__control sk-hidden--visually\" id=\"sk-estimator-id-1\" type=\"checkbox\" checked><label for=\"sk-estimator-id-1\" class=\"sk-toggleable__label sk-toggleable__label-arrow\">SVC</label><div class=\"sk-toggleable__content\"><pre>SVC()</pre></div></div></div></div></div>"
      ],
      "text/plain": [
       "SVC()"
      ]
     },
     "execution_count": 21,
     "metadata": {},
     "output_type": "execute_result"
    }
   ],
   "source": [
    "from sklearn.svm import SVC\n",
    "model = SVC()\n",
    "model.fit(x_train,y_train)"
   ]
  },
  {
   "cell_type": "code",
   "execution_count": 22,
   "id": "0b0f2f0d",
   "metadata": {},
   "outputs": [
    {
     "data": {
      "text/plain": [
       "array(['Çerçevelik', 'Çerçevelik', 'Çerçevelik', 'Çerçevelik',\n",
       "       'Ürgüp Sivrisi', 'Çerçevelik', 'Çerçevelik', 'Çerçevelik',\n",
       "       'Çerçevelik', 'Çerçevelik', 'Çerçevelik', 'Çerçevelik',\n",
       "       'Çerçevelik', 'Çerçevelik', 'Çerçevelik', 'Çerçevelik',\n",
       "       'Ürgüp Sivrisi', 'Çerçevelik', 'Çerçevelik', 'Çerçevelik',\n",
       "       'Ürgüp Sivrisi', 'Çerçevelik', 'Çerçevelik', 'Çerçevelik',\n",
       "       'Ürgüp Sivrisi', 'Ürgüp Sivrisi', 'Çerçevelik', 'Çerçevelik',\n",
       "       'Çerçevelik', 'Çerçevelik', 'Çerçevelik', 'Ürgüp Sivrisi',\n",
       "       'Çerçevelik', 'Çerçevelik', 'Çerçevelik', 'Çerçevelik',\n",
       "       'Ürgüp Sivrisi', 'Çerçevelik', 'Çerçevelik', 'Ürgüp Sivrisi',\n",
       "       'Çerçevelik', 'Ürgüp Sivrisi', 'Çerçevelik', 'Çerçevelik',\n",
       "       'Çerçevelik', 'Ürgüp Sivrisi', 'Çerçevelik', 'Çerçevelik',\n",
       "       'Çerçevelik', 'Çerçevelik', 'Çerçevelik', 'Çerçevelik',\n",
       "       'Çerçevelik', 'Çerçevelik', 'Çerçevelik', 'Çerçevelik',\n",
       "       'Çerçevelik', 'Çerçevelik', 'Çerçevelik', 'Çerçevelik',\n",
       "       'Ürgüp Sivrisi', 'Çerçevelik', 'Çerçevelik', 'Çerçevelik',\n",
       "       'Ürgüp Sivrisi', 'Çerçevelik', 'Çerçevelik', 'Çerçevelik',\n",
       "       'Ürgüp Sivrisi', 'Çerçevelik', 'Çerçevelik', 'Çerçevelik',\n",
       "       'Çerçevelik', 'Çerçevelik', 'Ürgüp Sivrisi', 'Çerçevelik',\n",
       "       'Çerçevelik', 'Çerçevelik', 'Çerçevelik', 'Çerçevelik',\n",
       "       'Ürgüp Sivrisi', 'Çerçevelik', 'Çerçevelik', 'Çerçevelik',\n",
       "       'Ürgüp Sivrisi', 'Çerçevelik', 'Çerçevelik', 'Çerçevelik',\n",
       "       'Çerçevelik', 'Çerçevelik', 'Çerçevelik', 'Ürgüp Sivrisi',\n",
       "       'Çerçevelik', 'Çerçevelik', 'Çerçevelik', 'Ürgüp Sivrisi',\n",
       "       'Çerçevelik', 'Çerçevelik', 'Çerçevelik', 'Çerçevelik',\n",
       "       'Çerçevelik', 'Çerçevelik', 'Çerçevelik', 'Çerçevelik',\n",
       "       'Ürgüp Sivrisi', 'Çerçevelik', 'Çerçevelik', 'Çerçevelik',\n",
       "       'Çerçevelik', 'Çerçevelik', 'Çerçevelik', 'Çerçevelik',\n",
       "       'Çerçevelik', 'Ürgüp Sivrisi', 'Çerçevelik', 'Çerçevelik',\n",
       "       'Çerçevelik', 'Çerçevelik', 'Çerçevelik', 'Ürgüp Sivrisi',\n",
       "       'Çerçevelik', 'Çerçevelik', 'Ürgüp Sivrisi', 'Çerçevelik',\n",
       "       'Çerçevelik', 'Çerçevelik', 'Çerçevelik', 'Çerçevelik',\n",
       "       'Çerçevelik', 'Çerçevelik', 'Ürgüp Sivrisi', 'Ürgüp Sivrisi',\n",
       "       'Ürgüp Sivrisi', 'Çerçevelik', 'Ürgüp Sivrisi', 'Çerçevelik',\n",
       "       'Çerçevelik', 'Çerçevelik', 'Çerçevelik', 'Çerçevelik',\n",
       "       'Çerçevelik', 'Çerçevelik', 'Çerçevelik', 'Çerçevelik',\n",
       "       'Ürgüp Sivrisi', 'Çerçevelik', 'Çerçevelik', 'Çerçevelik',\n",
       "       'Çerçevelik', 'Ürgüp Sivrisi', 'Çerçevelik', 'Çerçevelik',\n",
       "       'Çerçevelik', 'Çerçevelik', 'Çerçevelik', 'Çerçevelik',\n",
       "       'Çerçevelik', 'Çerçevelik', 'Çerçevelik', 'Ürgüp Sivrisi',\n",
       "       'Çerçevelik', 'Çerçevelik', 'Ürgüp Sivrisi', 'Çerçevelik',\n",
       "       'Çerçevelik', 'Çerçevelik', 'Ürgüp Sivrisi', 'Ürgüp Sivrisi',\n",
       "       'Ürgüp Sivrisi', 'Çerçevelik', 'Çerçevelik', 'Çerçevelik',\n",
       "       'Çerçevelik', 'Çerçevelik', 'Çerçevelik', 'Çerçevelik',\n",
       "       'Çerçevelik', 'Çerçevelik', 'Çerçevelik', 'Çerçevelik',\n",
       "       'Ürgüp Sivrisi', 'Ürgüp Sivrisi', 'Ürgüp Sivrisi', 'Çerçevelik',\n",
       "       'Çerçevelik', 'Çerçevelik', 'Ürgüp Sivrisi', 'Çerçevelik',\n",
       "       'Ürgüp Sivrisi', 'Çerçevelik', 'Çerçevelik', 'Çerçevelik',\n",
       "       'Ürgüp Sivrisi', 'Çerçevelik', 'Çerçevelik', 'Çerçevelik',\n",
       "       'Çerçevelik', 'Çerçevelik', 'Çerçevelik', 'Çerçevelik',\n",
       "       'Çerçevelik', 'Çerçevelik', 'Çerçevelik', 'Çerçevelik',\n",
       "       'Ürgüp Sivrisi', 'Çerçevelik', 'Çerçevelik', 'Çerçevelik',\n",
       "       'Çerçevelik', 'Çerçevelik', 'Çerçevelik', 'Ürgüp Sivrisi',\n",
       "       'Çerçevelik', 'Ürgüp Sivrisi', 'Ürgüp Sivrisi', 'Çerçevelik',\n",
       "       'Çerçevelik', 'Çerçevelik', 'Çerçevelik', 'Çerçevelik',\n",
       "       'Çerçevelik', 'Çerçevelik', 'Ürgüp Sivrisi', 'Çerçevelik',\n",
       "       'Çerçevelik', 'Çerçevelik', 'Çerçevelik', 'Çerçevelik',\n",
       "       'Çerçevelik', 'Çerçevelik', 'Çerçevelik', 'Çerçevelik',\n",
       "       'Çerçevelik', 'Çerçevelik', 'Çerçevelik', 'Çerçevelik',\n",
       "       'Çerçevelik', 'Çerçevelik', 'Çerçevelik', 'Çerçevelik',\n",
       "       'Ürgüp Sivrisi', 'Çerçevelik', 'Çerçevelik', 'Çerçevelik',\n",
       "       'Çerçevelik', 'Çerçevelik', 'Çerçevelik', 'Ürgüp Sivrisi',\n",
       "       'Çerçevelik', 'Çerçevelik', 'Ürgüp Sivrisi', 'Çerçevelik',\n",
       "       'Ürgüp Sivrisi', 'Ürgüp Sivrisi', 'Çerçevelik', 'Çerçevelik',\n",
       "       'Çerçevelik', 'Ürgüp Sivrisi', 'Çerçevelik', 'Çerçevelik',\n",
       "       'Ürgüp Sivrisi', 'Çerçevelik', 'Çerçevelik', 'Çerçevelik',\n",
       "       'Ürgüp Sivrisi', 'Çerçevelik', 'Çerçevelik', 'Çerçevelik',\n",
       "       'Çerçevelik', 'Çerçevelik', 'Çerçevelik', 'Çerçevelik',\n",
       "       'Çerçevelik', 'Çerçevelik', 'Ürgüp Sivrisi', 'Çerçevelik',\n",
       "       'Çerçevelik', 'Çerçevelik', 'Çerçevelik', 'Çerçevelik',\n",
       "       'Çerçevelik', 'Çerçevelik', 'Çerçevelik', 'Çerçevelik',\n",
       "       'Ürgüp Sivrisi', 'Çerçevelik', 'Çerçevelik', 'Çerçevelik',\n",
       "       'Çerçevelik', 'Çerçevelik', 'Ürgüp Sivrisi', 'Çerçevelik',\n",
       "       'Çerçevelik', 'Çerçevelik', 'Ürgüp Sivrisi', 'Ürgüp Sivrisi',\n",
       "       'Ürgüp Sivrisi', 'Çerçevelik', 'Çerçevelik', 'Çerçevelik',\n",
       "       'Ürgüp Sivrisi', 'Ürgüp Sivrisi', 'Çerçevelik', 'Çerçevelik',\n",
       "       'Çerçevelik', 'Çerçevelik', 'Çerçevelik', 'Çerçevelik',\n",
       "       'Çerçevelik', 'Çerçevelik', 'Çerçevelik', 'Çerçevelik',\n",
       "       'Ürgüp Sivrisi', 'Çerçevelik', 'Çerçevelik', 'Ürgüp Sivrisi',\n",
       "       'Çerçevelik', 'Çerçevelik', 'Çerçevelik', 'Çerçevelik',\n",
       "       'Çerçevelik', 'Çerçevelik', 'Çerçevelik', 'Çerçevelik',\n",
       "       'Çerçevelik', 'Çerçevelik', 'Ürgüp Sivrisi', 'Çerçevelik',\n",
       "       'Ürgüp Sivrisi', 'Çerçevelik', 'Çerçevelik', 'Ürgüp Sivrisi',\n",
       "       'Çerçevelik', 'Çerçevelik', 'Ürgüp Sivrisi', 'Çerçevelik',\n",
       "       'Çerçevelik', 'Çerçevelik', 'Çerçevelik', 'Çerçevelik',\n",
       "       'Çerçevelik', 'Ürgüp Sivrisi', 'Çerçevelik', 'Çerçevelik',\n",
       "       'Ürgüp Sivrisi', 'Çerçevelik', 'Çerçevelik', 'Çerçevelik',\n",
       "       'Çerçevelik', 'Çerçevelik', 'Çerçevelik', 'Çerçevelik',\n",
       "       'Çerçevelik', 'Çerçevelik', 'Çerçevelik', 'Çerçevelik',\n",
       "       'Çerçevelik', 'Çerçevelik', 'Çerçevelik', 'Ürgüp Sivrisi',\n",
       "       'Çerçevelik', 'Çerçevelik', 'Çerçevelik', 'Çerçevelik',\n",
       "       'Çerçevelik', 'Ürgüp Sivrisi', 'Çerçevelik', 'Çerçevelik',\n",
       "       'Çerçevelik', 'Çerçevelik', 'Çerçevelik', 'Çerçevelik',\n",
       "       'Çerçevelik', 'Çerçevelik', 'Çerçevelik', 'Çerçevelik',\n",
       "       'Çerçevelik', 'Çerçevelik', 'Çerçevelik', 'Çerçevelik',\n",
       "       'Çerçevelik', 'Çerçevelik', 'Çerçevelik', 'Ürgüp Sivrisi',\n",
       "       'Ürgüp Sivrisi', 'Çerçevelik', 'Çerçevelik', 'Çerçevelik',\n",
       "       'Çerçevelik', 'Çerçevelik', 'Ürgüp Sivrisi', 'Çerçevelik',\n",
       "       'Çerçevelik', 'Çerçevelik', 'Çerçevelik', 'Çerçevelik',\n",
       "       'Çerçevelik', 'Ürgüp Sivrisi', 'Çerçevelik', 'Çerçevelik',\n",
       "       'Ürgüp Sivrisi', 'Çerçevelik', 'Çerçevelik', 'Çerçevelik',\n",
       "       'Çerçevelik', 'Çerçevelik', 'Çerçevelik', 'Çerçevelik',\n",
       "       'Çerçevelik', 'Çerçevelik', 'Çerçevelik', 'Çerçevelik',\n",
       "       'Çerçevelik', 'Çerçevelik', 'Çerçevelik', 'Çerçevelik',\n",
       "       'Çerçevelik', 'Çerçevelik', 'Çerçevelik', 'Çerçevelik',\n",
       "       'Çerçevelik', 'Çerçevelik', 'Çerçevelik', 'Çerçevelik',\n",
       "       'Ürgüp Sivrisi', 'Çerçevelik', 'Ürgüp Sivrisi', 'Çerçevelik',\n",
       "       'Çerçevelik', 'Ürgüp Sivrisi', 'Çerçevelik', 'Ürgüp Sivrisi',\n",
       "       'Çerçevelik', 'Çerçevelik', 'Çerçevelik', 'Çerçevelik',\n",
       "       'Çerçevelik', 'Çerçevelik', 'Çerçevelik', 'Çerçevelik',\n",
       "       'Çerçevelik', 'Ürgüp Sivrisi', 'Çerçevelik', 'Çerçevelik',\n",
       "       'Çerçevelik', 'Çerçevelik', 'Çerçevelik', 'Ürgüp Sivrisi',\n",
       "       'Çerçevelik', 'Ürgüp Sivrisi', 'Çerçevelik', 'Ürgüp Sivrisi',\n",
       "       'Çerçevelik', 'Çerçevelik', 'Çerçevelik', 'Çerçevelik',\n",
       "       'Çerçevelik', 'Çerçevelik', 'Ürgüp Sivrisi', 'Çerçevelik',\n",
       "       'Çerçevelik', 'Ürgüp Sivrisi', 'Çerçevelik', 'Çerçevelik',\n",
       "       'Çerçevelik', 'Çerçevelik', 'Çerçevelik', 'Ürgüp Sivrisi',\n",
       "       'Çerçevelik', 'Çerçevelik', 'Çerçevelik', 'Çerçevelik',\n",
       "       'Ürgüp Sivrisi', 'Çerçevelik', 'Çerçevelik', 'Ürgüp Sivrisi',\n",
       "       'Çerçevelik', 'Çerçevelik', 'Çerçevelik', 'Çerçevelik',\n",
       "       'Ürgüp Sivrisi', 'Çerçevelik', 'Çerçevelik', 'Çerçevelik',\n",
       "       'Ürgüp Sivrisi', 'Çerçevelik', 'Ürgüp Sivrisi', 'Çerçevelik',\n",
       "       'Çerçevelik', 'Çerçevelik', 'Çerçevelik', 'Ürgüp Sivrisi',\n",
       "       'Çerçevelik', 'Çerçevelik', 'Çerçevelik', 'Çerçevelik',\n",
       "       'Çerçevelik', 'Çerçevelik', 'Çerçevelik', 'Çerçevelik',\n",
       "       'Çerçevelik', 'Çerçevelik', 'Çerçevelik', 'Çerçevelik',\n",
       "       'Çerçevelik', 'Çerçevelik', 'Ürgüp Sivrisi', 'Çerçevelik',\n",
       "       'Çerçevelik', 'Çerçevelik', 'Çerçevelik', 'Çerçevelik',\n",
       "       'Çerçevelik', 'Çerçevelik', 'Çerçevelik', 'Çerçevelik',\n",
       "       'Çerçevelik', 'Çerçevelik', 'Ürgüp Sivrisi', 'Çerçevelik',\n",
       "       'Çerçevelik', 'Çerçevelik', 'Çerçevelik', 'Çerçevelik',\n",
       "       'Çerçevelik', 'Ürgüp Sivrisi', 'Çerçevelik', 'Ürgüp Sivrisi',\n",
       "       'Çerçevelik', 'Çerçevelik', 'Çerçevelik', 'Ürgüp Sivrisi',\n",
       "       'Ürgüp Sivrisi', 'Çerçevelik', 'Çerçevelik', 'Çerçevelik',\n",
       "       'Ürgüp Sivrisi', 'Çerçevelik', 'Çerçevelik', 'Çerçevelik',\n",
       "       'Çerçevelik', 'Çerçevelik', 'Çerçevelik', 'Çerçevelik',\n",
       "       'Çerçevelik', 'Çerçevelik', 'Ürgüp Sivrisi', 'Çerçevelik',\n",
       "       'Ürgüp Sivrisi', 'Çerçevelik', 'Çerçevelik', 'Çerçevelik',\n",
       "       'Ürgüp Sivrisi', 'Çerçevelik', 'Çerçevelik', 'Çerçevelik',\n",
       "       'Ürgüp Sivrisi', 'Çerçevelik', 'Çerçevelik', 'Çerçevelik',\n",
       "       'Çerçevelik', 'Çerçevelik', 'Çerçevelik', 'Çerçevelik',\n",
       "       'Ürgüp Sivrisi', 'Çerçevelik', 'Çerçevelik', 'Çerçevelik',\n",
       "       'Çerçevelik', 'Çerçevelik', 'Çerçevelik', 'Çerçevelik',\n",
       "       'Ürgüp Sivrisi', 'Çerçevelik', 'Ürgüp Sivrisi', 'Çerçevelik',\n",
       "       'Çerçevelik', 'Çerçevelik', 'Ürgüp Sivrisi', 'Çerçevelik',\n",
       "       'Ürgüp Sivrisi', 'Ürgüp Sivrisi', 'Ürgüp Sivrisi', 'Çerçevelik',\n",
       "       'Çerçevelik', 'Çerçevelik', 'Çerçevelik', 'Çerçevelik',\n",
       "       'Çerçevelik', 'Çerçevelik', 'Ürgüp Sivrisi', 'Çerçevelik',\n",
       "       'Çerçevelik', 'Çerçevelik', 'Ürgüp Sivrisi', 'Çerçevelik',\n",
       "       'Çerçevelik', 'Çerçevelik', 'Çerçevelik', 'Çerçevelik',\n",
       "       'Çerçevelik', 'Çerçevelik', 'Çerçevelik', 'Çerçevelik',\n",
       "       'Çerçevelik', 'Çerçevelik', 'Çerçevelik', 'Çerçevelik',\n",
       "       'Çerçevelik', 'Çerçevelik', 'Ürgüp Sivrisi', 'Çerçevelik',\n",
       "       'Çerçevelik', 'Çerçevelik', 'Çerçevelik', 'Çerçevelik',\n",
       "       'Çerçevelik', 'Çerçevelik', 'Ürgüp Sivrisi', 'Çerçevelik',\n",
       "       'Çerçevelik', 'Çerçevelik', 'Ürgüp Sivrisi', 'Çerçevelik',\n",
       "       'Çerçevelik', 'Çerçevelik', 'Çerçevelik', 'Çerçevelik',\n",
       "       'Çerçevelik', 'Çerçevelik', 'Çerçevelik', 'Çerçevelik',\n",
       "       'Çerçevelik', 'Çerçevelik', 'Çerçevelik', 'Ürgüp Sivrisi',\n",
       "       'Çerçevelik', 'Ürgüp Sivrisi', 'Çerçevelik', 'Ürgüp Sivrisi',\n",
       "       'Çerçevelik', 'Çerçevelik', 'Çerçevelik', 'Çerçevelik',\n",
       "       'Çerçevelik', 'Çerçevelik', 'Çerçevelik', 'Çerçevelik',\n",
       "       'Çerçevelik', 'Çerçevelik', 'Çerçevelik', 'Çerçevelik',\n",
       "       'Ürgüp Sivrisi', 'Çerçevelik', 'Çerçevelik', 'Çerçevelik',\n",
       "       'Çerçevelik', 'Çerçevelik', 'Çerçevelik', 'Çerçevelik',\n",
       "       'Çerçevelik', 'Ürgüp Sivrisi', 'Çerçevelik', 'Çerçevelik',\n",
       "       'Çerçevelik', 'Ürgüp Sivrisi', 'Çerçevelik', 'Çerçevelik',\n",
       "       'Ürgüp Sivrisi', 'Ürgüp Sivrisi', 'Çerçevelik', 'Çerçevelik',\n",
       "       'Çerçevelik', 'Ürgüp Sivrisi', 'Çerçevelik', 'Ürgüp Sivrisi',\n",
       "       'Ürgüp Sivrisi', 'Çerçevelik', 'Çerçevelik', 'Çerçevelik',\n",
       "       'Çerçevelik', 'Çerçevelik', 'Ürgüp Sivrisi', 'Çerçevelik',\n",
       "       'Ürgüp Sivrisi', 'Çerçevelik', 'Çerçevelik', 'Ürgüp Sivrisi',\n",
       "       'Çerçevelik', 'Çerçevelik', 'Çerçevelik', 'Çerçevelik',\n",
       "       'Çerçevelik', 'Çerçevelik', 'Çerçevelik', 'Çerçevelik',\n",
       "       'Çerçevelik', 'Çerçevelik', 'Çerçevelik', 'Çerçevelik',\n",
       "       'Çerçevelik', 'Çerçevelik', 'Ürgüp Sivrisi', 'Çerçevelik',\n",
       "       'Çerçevelik', 'Çerçevelik', 'Çerçevelik', 'Çerçevelik',\n",
       "       'Çerçevelik', 'Çerçevelik', 'Çerçevelik', 'Çerçevelik',\n",
       "       'Çerçevelik', 'Çerçevelik', 'Çerçevelik', 'Çerçevelik',\n",
       "       'Ürgüp Sivrisi', 'Çerçevelik', 'Çerçevelik', 'Çerçevelik',\n",
       "       'Çerçevelik', 'Çerçevelik', 'Çerçevelik', 'Ürgüp Sivrisi',\n",
       "       'Ürgüp Sivrisi', 'Çerçevelik', 'Çerçevelik', 'Çerçevelik',\n",
       "       'Ürgüp Sivrisi', 'Çerçevelik', 'Çerçevelik', 'Çerçevelik',\n",
       "       'Çerçevelik', 'Çerçevelik', 'Çerçevelik', 'Çerçevelik',\n",
       "       'Çerçevelik', 'Çerçevelik', 'Ürgüp Sivrisi', 'Çerçevelik',\n",
       "       'Ürgüp Sivrisi', 'Çerçevelik', 'Çerçevelik', 'Çerçevelik',\n",
       "       'Çerçevelik', 'Çerçevelik', 'Çerçevelik', 'Çerçevelik',\n",
       "       'Çerçevelik', 'Çerçevelik'], dtype=object)"
      ]
     },
     "execution_count": 22,
     "metadata": {},
     "output_type": "execute_result"
    }
   ],
   "source": [
    "y_pred = model.predict(x_test)\n",
    "y_pred"
   ]
  },
  {
   "cell_type": "code",
   "execution_count": 24,
   "id": "0fa8c133",
   "metadata": {},
   "outputs": [
    {
     "data": {
      "text/plain": [
       "0.564"
      ]
     },
     "execution_count": 24,
     "metadata": {},
     "output_type": "execute_result"
    }
   ],
   "source": [
    "model.score(x_test,y_test)"
   ]
  },
  {
   "cell_type": "code",
   "execution_count": 25,
   "id": "39bbe136",
   "metadata": {},
   "outputs": [
    {
     "name": "stdout",
     "output_type": "stream",
     "text": [
      "[[342  55]\n",
      " [272  81]]\n"
     ]
    },
    {
     "data": {
      "image/png": "[encoded data removed]",
      "text/plain": [
       "<Figure size 720x720 with 2 Axes>"
      ]
     },
     "metadata": {
      "needs_background": "light"
     },
     "output_type": "display_data"
    }
   ],
   "source": [
    "from sklearn.metrics import confusion_matrix\n",
    "cm=confusion_matrix(y_test,y_pred)\n",
    "print(cm)\n",
    "plt.figure(figsize=(10, 10))\n",
    "ax = sns.heatmap(cm, annot=True, cmap='inferno', fmt='d')\n",
    "ax.set_ylabel('y_test')\n",
    "ax.set_xlabel('y_pred')\n",
    "\n",
    "plt.show()"
   ]
  },
  {
   "cell_type": "markdown",
   "id": "2158c592",
   "metadata": {},
   "source": [
    "Don't forget to follow me on [YouTube](https://www.youtube.com/channel/UCeFRxm0sPqPe3U6zWfN1DKg) | [Medium](https://medium.com/@borhadepiyush) | [GitHub](https://github.com/PiyushBorhade) | [Linkedin](https://www.linkedin.com/in/piyush-borhade/) | [Kaggle](https://www.kaggle.com/piyushborhade) 😎"
   ]
  }
 ],
 "metadata": {
  "kernelspec": {
   "display_name": "Python 3 (ipykernel)",
   "language": "python",
   "name": "python3"
  },
  "language_info": {
   "codemirror_mode": {
    "name": "ipython",
    "version": 3
   },
   "file_extension": ".py",
   "mimetype": "text/x-python",
   "name": "python",
   "nbconvert_exporter": "python",
   "pygments_lexer": "ipython3",
   "version": "3.9.4"
  }
 },
 "nbformat": 4,
 "nbformat_minor": 5
}
